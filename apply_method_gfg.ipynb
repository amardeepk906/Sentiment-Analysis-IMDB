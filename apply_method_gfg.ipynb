{
  "nbformat": 4,
  "nbformat_minor": 0,
  "metadata": {
    "kernelspec": {
      "display_name": "Python 3",
      "language": "python",
      "name": "python3"
    },
    "language_info": {
      "codemirror_mode": {
        "name": "ipython",
        "version": 3
      },
      "file_extension": ".py",
      "mimetype": "text/x-python",
      "name": "python",
      "nbconvert_exporter": "python",
      "pygments_lexer": "ipython3",
      "version": "3.6.4"
    },
    "colab": {
      "name": "apply method gfg.ipynb",
      "provenance": []
    }
  },
  "cells": [
    {
      "cell_type": "code",
      "metadata": {
        "id": "w2q_VYHpXIct"
      },
      "source": [
        "import pandas as pd"
      ],
      "execution_count": null,
      "outputs": []
    },
    {
      "cell_type": "code",
      "metadata": {
        "id": "X_k6mCEQXIcx"
      },
      "source": [
        "s=pd.read_csv(\"stock.csv\",squeeze=True)"
      ],
      "execution_count": null,
      "outputs": []
    },
    {
      "cell_type": "code",
      "metadata": {
        "id": "Z3_pY1RdXIcy"
      },
      "source": [
        "def fun(num):\n",
        "    if num<200:\n",
        "        return \"Low\"\n",
        "    elif num>=200 and num<400:\n",
        "        return \"Normal\"\n",
        "    else:\n",
        "        return \"High\""
      ],
      "execution_count": null,
      "outputs": []
    },
    {
      "cell_type": "code",
      "metadata": {
        "id": "jqJtBy4sXIcy"
      },
      "source": [
        "new=s.apply(fun)"
      ],
      "execution_count": null,
      "outputs": []
    },
    {
      "cell_type": "code",
      "metadata": {
        "id": "qUBoNMIgXIcz",
        "outputId": "3e31f652-6878-40fd-9e65-0620a3f56e4c"
      },
      "source": [
        "print(new.head(3))\n",
        "print(new[1400],new[1500],new[1600])\n",
        "print(new.tail(3))"
      ],
      "execution_count": null,
      "outputs": [
        {
          "name": "stdout",
          "output_type": "stream",
          "text": [
            "0    Low\n",
            "1    Low\n",
            "2    Low\n",
            "Name: Stock Price, dtype: object\n",
            "Normal Normal Normal\n",
            "3009    High\n",
            "3010    High\n",
            "3011    High\n",
            "Name: Stock Price, dtype: object\n"
          ]
        }
      ]
    },
    {
      "cell_type": "code",
      "metadata": {
        "id": "niv8hlapXIc0"
      },
      "source": [
        "new=s.apply(lambda num : num + 5)"
      ],
      "execution_count": null,
      "outputs": []
    },
    {
      "cell_type": "code",
      "metadata": {
        "id": "ne1CcGpKXIc1",
        "outputId": "66d9a0ca-d902-48b0-90f6-1703cb3cfed6"
      },
      "source": [
        "print(s.head(),'\\n',new.head())\n",
        "print('\\n\\n',s.tail(),'\\n',new.tail())"
      ],
      "execution_count": null,
      "outputs": [
        {
          "name": "stdout",
          "output_type": "stream",
          "text": [
            "0    50.12\n",
            "1    54.10\n",
            "2    54.65\n",
            "3    52.38\n",
            "4    52.95\n",
            "Name: Stock Price, dtype: float64 \n",
            " 0    55.12\n",
            "1    59.10\n",
            "2    59.65\n",
            "3    57.38\n",
            "4    57.95\n",
            "Name: Stock Price, dtype: float64\n",
            "\n",
            "\n",
            " 3007    772.88\n",
            "3008    771.07\n",
            "3009    773.18\n",
            "3010    771.61\n",
            "3011    782.22\n",
            "Name: Stock Price, dtype: float64 \n",
            " 3007    777.88\n",
            "3008    776.07\n",
            "3009    778.18\n",
            "3010    776.61\n",
            "3011    787.22\n",
            "Name: Stock Price, dtype: float64\n"
          ]
        }
      ]
    },
    {
      "cell_type": "code",
      "metadata": {
        "id": "ZLAjY-iWXIc1"
      },
      "source": [
        ""
      ],
      "execution_count": null,
      "outputs": []
    }
  ]
}